{
 "cells": [
  {
   "cell_type": "code",
   "execution_count": 1,
   "metadata": {
    "collapsed": false
   },
   "outputs": [
    {
     "name": "stdout",
     "output_type": "stream",
     "text": [
      "Populating the interactive namespace from numpy and matplotlib\n"
     ]
    },
    {
     "name": "stderr",
     "output_type": "stream",
     "text": [
      "WARNING: pylab import has clobbered these variables: ['plt']\n",
      "`%matplotlib` prevents importing * from pylab and numpy\n"
     ]
    }
   ],
   "source": [
    "# Import relevant modules\n",
    "import pandas as pd\n",
    "import numpy as np\n",
    "import matplotlib.pylab as plt\n",
    "import matplotlib.image as mpimg\n",
    "import numpy\n",
    "from PIL import Image\n",
    "%pylab inline"
   ]
  },
  {
   "cell_type": "markdown",
   "metadata": {},
   "source": [
    "### DATA PREPARATION"
   ]
  },
  {
   "cell_type": "code",
   "execution_count": null,
   "metadata": {
    "collapsed": true
   },
   "outputs": [],
   "source": [
    "# Yuan add description of what you did in ArcGis to get pixels as png"
   ]
  },
  {
   "cell_type": "code",
   "execution_count": 3,
   "metadata": {
    "collapsed": true
   },
   "outputs": [],
   "source": [
    "def feature_to_array(file_n):\n",
    "    #The input of the function is a raster file with dimentions (n pixels,m pixels), \n",
    "    #and the output is going to be an array of dimmensions (m*n,1). \n",
    "    #Each pixel is going to have a unique identifier (index in the array). \n",
    "    #This index follows the formula (i*n)+j where (i,j) is the position of the pixel in the image \n",
    "    #and n is the width of the image.\n",
    "    im = mpimg.imread(file_n)  \n",
    "    im_greyscale = rgb2gray(im)   \n",
    "    imarray = numpy.array(im_greyscale)\n",
    "    feature=[i for a in imarray for i in a]\n",
    "    return feature\n",
    "\n",
    "def rgb2gray(rgb):\n",
    "    return np.dot(rgb[...,:3], [0.299, 0.587, 0.114])\n",
    "\n",
    "def read_pictures(filename):\n",
    "    file_name=filename\n",
    "    im = mpimg.imread(file_name)  \n",
    "    im_greyscale = rgb2gray(im)  "
   ]
  },
  {
   "cell_type": "code",
   "execution_count": 5,
   "metadata": {
    "collapsed": false
   },
   "outputs": [],
   "source": [
    "# X variables\n",
    "file_name='Raster_images/BusStop.png'\n",
    "bus=feature_to_array(file_name) # array1\n",
    "\n",
    "file_name='Raster_images/Mosquito.png'\n",
    "mosquito=feature_to_array(file_name) # array4\n",
    "\n",
    "file_name='Raster_images/Str_Density.png'\n",
    "street=feature_to_array(file_name) # array5\n",
    "\n",
    "file_name='Raster_images/Trash.png'\n",
    "trash=feature_to_array(file_name) # array6\n",
    "\n",
    "# Y variable\n",
    "file_name='Raster_images/Case.png'\n",
    "case=feature_to_array(file_name) # array2\n",
    "\n",
    "# In or outside Singapore\n",
    "file_name='Raster_images/Land.png'\n",
    "land=feature_to_array(file_name) # array3"
   ]
  },
  {
   "cell_type": "code",
   "execution_count": 6,
   "metadata": {
    "collapsed": false
   },
   "outputs": [],
   "source": [
    "#cases = list(case/np.max(case)) # Normalize\n",
    "inorout = list(1-(land/np.max(land))) # get binary value indicating whether pixel is inside Singapore or not"
   ]
  },
  {
   "cell_type": "code",
   "execution_count": 7,
   "metadata": {
    "collapsed": false
   },
   "outputs": [],
   "source": [
    "Data = pd.DataFrame([bus,street,trash,mosquito,case]).T\n",
    "Data.head()"
   ]
  },
  {
   "cell_type": "code",
   "execution_count": 9,
   "metadata": {
    "collapsed": false
   },
   "outputs": [],
   "source": [
    "Data_filt = Data[np.array(inorout)==1.0] # filter dataset to only pixels within Singapore\n",
    "Data_filt.columns = ['BusStop','Street','Trash','Mosquito','Case']\n",
    "Data_filt['Case'] = np.where(Data_filt['Case']==0,1,0) # Transform Case label into 1 (=case) or 0 (=no case)"
   ]
  },
  {
   "cell_type": "code",
   "execution_count": 15,
   "metadata": {
    "collapsed": false
   },
   "outputs": [
    {
     "data": {
      "text/html": [
       "<div>\n",
       "<table border=\"1\" class=\"dataframe\">\n",
       "  <thead>\n",
       "    <tr style=\"text-align: right;\">\n",
       "      <th></th>\n",
       "      <th>BusStop</th>\n",
       "      <th>Street</th>\n",
       "      <th>Trash</th>\n",
       "      <th>Mosquito</th>\n",
       "      <th>Case</th>\n",
       "    </tr>\n",
       "  </thead>\n",
       "  <tbody>\n",
       "    <tr>\n",
       "      <th>147867</th>\n",
       "      <td>0.941176</td>\n",
       "      <td>0.941176</td>\n",
       "      <td>0.941176</td>\n",
       "      <td>0.941176</td>\n",
       "      <td>0</td>\n",
       "    </tr>\n",
       "    <tr>\n",
       "      <th>150112</th>\n",
       "      <td>0.941176</td>\n",
       "      <td>0.941176</td>\n",
       "      <td>0.941176</td>\n",
       "      <td>0.941176</td>\n",
       "      <td>0</td>\n",
       "    </tr>\n",
       "    <tr>\n",
       "      <th>150113</th>\n",
       "      <td>0.941176</td>\n",
       "      <td>0.941176</td>\n",
       "      <td>0.941176</td>\n",
       "      <td>0.941176</td>\n",
       "      <td>0</td>\n",
       "    </tr>\n",
       "    <tr>\n",
       "      <th>150114</th>\n",
       "      <td>0.941176</td>\n",
       "      <td>0.941176</td>\n",
       "      <td>0.941176</td>\n",
       "      <td>0.941176</td>\n",
       "      <td>0</td>\n",
       "    </tr>\n",
       "    <tr>\n",
       "      <th>151167</th>\n",
       "      <td>0.219608</td>\n",
       "      <td>0.121569</td>\n",
       "      <td>0.000000</td>\n",
       "      <td>0.941176</td>\n",
       "      <td>0</td>\n",
       "    </tr>\n",
       "  </tbody>\n",
       "</table>\n",
       "</div>"
      ],
      "text/plain": [
       "         BusStop    Street     Trash  Mosquito  Case\n",
       "147867  0.941176  0.941176  0.941176  0.941176     0\n",
       "150112  0.941176  0.941176  0.941176  0.941176     0\n",
       "150113  0.941176  0.941176  0.941176  0.941176     0\n",
       "150114  0.941176  0.941176  0.941176  0.941176     0\n",
       "151167  0.219608  0.121569  0.000000  0.941176     0"
      ]
     },
     "execution_count": 15,
     "metadata": {},
     "output_type": "execute_result"
    }
   ],
   "source": [
    "Data_filt.head()"
   ]
  },
  {
   "cell_type": "code",
   "execution_count": 31,
   "metadata": {
    "collapsed": false
   },
   "outputs": [
    {
     "name": "stdout",
     "output_type": "stream",
     "text": [
      "Case\n",
      "0    276140\n",
      "1      3428\n",
      "dtype: int64\n",
      "Case\n",
      "0    98.773822\n",
      "1     1.226178\n",
      "dtype: float64\n"
     ]
    }
   ],
   "source": [
    "print Data_filt.groupby('Case').size()\n",
    "print (Data_filt.groupby('Case').size()/len(Data_filt))*100"
   ]
  },
  {
   "cell_type": "markdown",
   "metadata": {},
   "source": [
    "#### Recorded Dengue fever cases are approximately 1.2% of the available data. For this reason, the optimal evaluation metrix needs to be applied: Instead of accuracy rate, we use AUC score.\n",
    "\n",
    "    The AUC, which is part of performance metric of a logistic regression, is a commonly used evaluation metric for binary classification problems like predicting a Buy or Sell decision (binary decision). The interpretation is that given a random positive observation and negative observation, the AUC gives the proportion of the time you guess which is correct. It is less affected by sample balance than accuracy. A perfect model will score an AUC of 1, while random guessing will score an AUC of around 0.5, a meager 50% chance on each other. \n",
    " \n",
    "(https://www.kaggle.com/wiki/AreaUnderCurve )"
   ]
  },
  {
   "cell_type": "markdown",
   "metadata": {},
   "source": [
    "### MACHINE LEARNING"
   ]
  },
  {
   "cell_type": "code",
   "execution_count": 38,
   "metadata": {
    "collapsed": true
   },
   "outputs": [],
   "source": [
    "from sklearn.pipeline import Pipeline\n",
    "from sklearn.decomposition import PCA\n",
    "from sklearn.ensemble import RandomForestClassifier\n",
    "from sklearn.grid_search import GridSearchCV\n",
    "from sklearn.cross_validation import train_test_split\n",
    "from sklearn.metrics import accuracy_score\n",
    "from sklearn.cross_validation import KFold\n",
    "from sklearn.metrics import roc_auc_score\n",
    "from sklearn.metrics import confusion_matrix\n",
    "import statsmodels.formula.api as smf\n",
    "#import itertools"
   ]
  },
  {
   "cell_type": "code",
   "execution_count": 17,
   "metadata": {
    "collapsed": false
   },
   "outputs": [],
   "source": [
    "X = Data_filt[['BusStop','Street','Trash','Mosquito']]\n",
    "Y = Data_filt['Case']"
   ]
  },
  {
   "cell_type": "code",
   "execution_count": 20,
   "metadata": {
    "collapsed": false
   },
   "outputs": [],
   "source": [
    "X_train, X_test = train_test_split(X, test_size=0.2, random_state=21)\n",
    "Y_train, Y_test = train_test_split(Y, test_size=0.2, random_state=21)"
   ]
  },
  {
   "cell_type": "markdown",
   "metadata": {},
   "source": [
    "#### Logistic Regression"
   ]
  },
  {
   "cell_type": "code",
   "execution_count": 39,
   "metadata": {
    "collapsed": false
   },
   "outputs": [
    {
     "name": "stdout",
     "output_type": "stream",
     "text": [
      "Optimization terminated successfully.\n",
      "         Current function value: 0.055249\n",
      "         Iterations 10\n",
      "\n",
      "                           Logit Regression Results                           \n",
      "==============================================================================\n",
      "Dep. Variable:                   Case   No. Observations:               279568\n",
      "Model:                          Logit   Df Residuals:                   279564\n",
      "Method:                           MLE   Df Model:                            3\n",
      "Date:                Sun, 24 Apr 2016   Pseudo R-squ.:                  0.1648\n",
      "Time:                        16:00:00   Log-Likelihood:                -15446.\n",
      "converged:                       True   LL-Null:                       -18494.\n",
      "                                        LLR p-value:                     0.000\n",
      "==============================================================================\n",
      "                 coef    std err          z      P>|z|      [95.0% Conf. Int.]\n",
      "------------------------------------------------------------------------------\n",
      "Intercept     -6.7509      0.052   -128.826      0.000        -6.854    -6.648\n",
      "BusStop        2.3141      0.102     22.671      0.000         2.114     2.514\n",
      "Street         2.1044      0.080     26.275      0.000         1.947     2.261\n",
      "Trash          1.5013      0.068     22.102      0.000         1.368     1.634\n",
      "==============================================================================\n"
     ]
    }
   ],
   "source": [
    "# Let's fit the logit model\n",
    "# http://statsmodels.sourceforge.net/stable/generated/statsmodels.discrete.discrete_model.Logit.html?highlight=logistic\n",
    "logit_mod = smf.logit('Case ~ BusStop + Street + Trash', data = Data_filt).fit()\n",
    "print '\\n',logit_mod.summary()"
   ]
  },
  {
   "cell_type": "code",
   "execution_count": 47,
   "metadata": {
    "collapsed": false
   },
   "outputs": [
    {
     "name": "stderr",
     "output_type": "stream",
     "text": [
      "/anaconda/lib/python2.7/site-packages/ipykernel/__main__.py:1: SettingWithCopyWarning: \n",
      "A value is trying to be set on a copy of a slice from a DataFrame.\n",
      "Try using .loc[row_indexer,col_indexer] = value instead\n",
      "\n",
      "See the caveats in the documentation: http://pandas.pydata.org/pandas-docs/stable/indexing.html#indexing-view-versus-copy\n",
      "  if __name__ == '__main__':\n"
     ]
    }
   ],
   "source": [
    "Data_filt['PredictionLogit'] = logit_mod.predict(Data_filt)"
   ]
  },
  {
   "cell_type": "code",
   "execution_count": 48,
   "metadata": {
    "collapsed": false
   },
   "outputs": [
    {
     "data": {
      "text/html": [
       "<div>\n",
       "<table border=\"1\" class=\"dataframe\">\n",
       "  <thead>\n",
       "    <tr style=\"text-align: right;\">\n",
       "      <th></th>\n",
       "      <th>BusStop</th>\n",
       "      <th>Street</th>\n",
       "      <th>Trash</th>\n",
       "      <th>Mosquito</th>\n",
       "      <th>Case</th>\n",
       "      <th>LabelLogit</th>\n",
       "      <th>PredictionLogit</th>\n",
       "    </tr>\n",
       "  </thead>\n",
       "  <tbody>\n",
       "    <tr>\n",
       "      <th>147867</th>\n",
       "      <td>0.941176</td>\n",
       "      <td>0.941176</td>\n",
       "      <td>0.941176</td>\n",
       "      <td>0.941176</td>\n",
       "      <td>0</td>\n",
       "      <td>0.235177</td>\n",
       "      <td>0.235177</td>\n",
       "    </tr>\n",
       "    <tr>\n",
       "      <th>150112</th>\n",
       "      <td>0.941176</td>\n",
       "      <td>0.941176</td>\n",
       "      <td>0.941176</td>\n",
       "      <td>0.941176</td>\n",
       "      <td>0</td>\n",
       "      <td>0.235177</td>\n",
       "      <td>0.235177</td>\n",
       "    </tr>\n",
       "    <tr>\n",
       "      <th>150113</th>\n",
       "      <td>0.941176</td>\n",
       "      <td>0.941176</td>\n",
       "      <td>0.941176</td>\n",
       "      <td>0.941176</td>\n",
       "      <td>0</td>\n",
       "      <td>0.235177</td>\n",
       "      <td>0.235177</td>\n",
       "    </tr>\n",
       "    <tr>\n",
       "      <th>150114</th>\n",
       "      <td>0.941176</td>\n",
       "      <td>0.941176</td>\n",
       "      <td>0.941176</td>\n",
       "      <td>0.941176</td>\n",
       "      <td>0</td>\n",
       "      <td>0.235177</td>\n",
       "      <td>0.235177</td>\n",
       "    </tr>\n",
       "    <tr>\n",
       "      <th>151167</th>\n",
       "      <td>0.219608</td>\n",
       "      <td>0.121569</td>\n",
       "      <td>0.000000</td>\n",
       "      <td>0.941176</td>\n",
       "      <td>0</td>\n",
       "      <td>0.002505</td>\n",
       "      <td>0.002505</td>\n",
       "    </tr>\n",
       "  </tbody>\n",
       "</table>\n",
       "</div>"
      ],
      "text/plain": [
       "         BusStop    Street     Trash  Mosquito  Case  LabelLogit  \\\n",
       "147867  0.941176  0.941176  0.941176  0.941176     0    0.235177   \n",
       "150112  0.941176  0.941176  0.941176  0.941176     0    0.235177   \n",
       "150113  0.941176  0.941176  0.941176  0.941176     0    0.235177   \n",
       "150114  0.941176  0.941176  0.941176  0.941176     0    0.235177   \n",
       "151167  0.219608  0.121569  0.000000  0.941176     0    0.002505   \n",
       "\n",
       "        PredictionLogit  \n",
       "147867         0.235177  \n",
       "150112         0.235177  \n",
       "150113         0.235177  \n",
       "150114         0.235177  \n",
       "151167         0.002505  "
      ]
     },
     "execution_count": 48,
     "metadata": {},
     "output_type": "execute_result"
    }
   ],
   "source": [
    "Data_filt.head()"
   ]
  },
  {
   "cell_type": "code",
   "execution_count": 41,
   "metadata": {
    "collapsed": true
   },
   "outputs": [],
   "source": [
    "#Outuput: dictionary linking index of one dimmensional array and original i,j position of pixel:\n",
    "file_name='Raster_images/Land.png'\n",
    "m=numpy.array(Image.open(file_name)).shape[0]\n",
    "n=numpy.array(Image.open(file_name)).shape[1]\n",
    "def indexes(m,n):    \n",
    "    index_2dim={}\n",
    "    for M in range(0,m*n):\n",
    "        index_2dim[M]={'i':int(M)/int(n), 'j':M-((int(M)/int(n))*n)}\n",
    "    return index_2dim\n",
    "original_index_dict=indexes(m,n)"
   ]
  },
  {
   "cell_type": "code",
   "execution_count": 57,
   "metadata": {
    "collapsed": false
   },
   "outputs": [],
   "source": [
    "# Plot the label on a map\n",
    "#0 disease, 1 no disease, 0 outside singapore (since probabilty is zero anyways)\n",
    "matrix = np.zeros((m,n))\n",
    "for M in Data_filt.index:\n",
    "    i=original_index_dict[M]['i']\n",
    "    j=original_index_dict[M]['j']\n",
    "    matrix[i][j]=Data_filt.PredictionLogit[M] # Get label\n",
    "m_l=matrix.tolist()"
   ]
  },
  {
   "cell_type": "code",
   "execution_count": 66,
   "metadata": {
    "collapsed": false
   },
   "outputs": [
    {
     "data": {
      "image/png": "[encoded data removed]",
      "text/plain": [
       "<matplotlib.figure.Figure at 0x12a65cfd0>"
      ]
     },
     "metadata": {},
     "output_type": "display_data"
    }
   ],
   "source": [
    "fig, ax = subplots(figsize=(12, 12))\n",
    "plt.imshow(m_l, interpolation='nearest', cmap='Blues', extent=(0.5,10.5,0.5,10.5))\n",
    "plt.colorbar()\n",
    "plt.show()"
   ]
  },
  {
   "cell_type": "markdown",
   "metadata": {},
   "source": [
    "##### Random Forest using Gridsearch and PCA"
   ]
  },
  {
   "cell_type": "code",
   "execution_count": 22,
   "metadata": {
    "collapsed": true
   },
   "outputs": [],
   "source": [
    "pca = PCA()\n",
    "forest = RandomForestClassifier()\n",
    "pipe = Pipeline(steps=[('pca', pca), ('forest', forest)])"
   ]
  },
  {
   "cell_type": "code",
   "execution_count": 23,
   "metadata": {
    "collapsed": false,
    "scrolled": true
   },
   "outputs": [
    {
     "data": {
      "image/png": "[encoded data removed]",
      "text/plain": [
       "<matplotlib.figure.Figure at 0x1271d3790>"
      ]
     },
     "metadata": {},
     "output_type": "display_data"
    }
   ],
   "source": [
    "# Show components before running the pipeline\n",
    "pca.fit(X_train.as_matrix())\n",
    "plt.figure(1, figsize=(6, 6))\n",
    "plt.plot(pca.explained_variance_, linewidth=2, c='salmon', alpha=0.8)\n",
    "plt.axis('tight')\n",
    "plt.xlabel('Number of components');\n",
    "plt.ylabel('Explained Variance');"
   ]
  },
  {
   "cell_type": "code",
   "execution_count": 69,
   "metadata": {
    "collapsed": true
   },
   "outputs": [],
   "source": [
    "# Define the parameter for which the optimal value should be picked by GridsearchCV\n",
    "n_components = [1,2,3]\n",
    "max_features = ['auto','sqrt','log2']\n",
    "criterion = ['gini','entropy']\n",
    "n_estimators = [3,5,9,12,20,35] # Check some possible estimators\n",
    "n_estimators = [35,40,45]"
   ]
  },
  {
   "cell_type": "code",
   "execution_count": 33,
   "metadata": {
    "collapsed": false
   },
   "outputs": [],
   "source": [
    "# Initiate the grid search\n",
    "estimator = GridSearchCV(pipe,dict(pca__n_components=n_components,\n",
    "                    forest__n_estimators=n_estimators, forest__criterion=criterion,\n",
    "                    forest__max_features=max_features),iid=True,cv=5,refit=True,scoring='roc_auc',n_job=-1)"
   ]
  },
  {
   "cell_type": "code",
   "execution_count": 34,
   "metadata": {
    "collapsed": false
   },
   "outputs": [],
   "source": [
    "# Parameters that can be set\n",
    "#estimator.get_params().keys()"
   ]
  },
  {
   "cell_type": "code",
   "execution_count": 35,
   "metadata": {
    "collapsed": false
   },
   "outputs": [
    {
     "name": "stdout",
     "output_type": "stream",
     "text": [
      "Pipeline(steps=[('pca', PCA(copy=True, n_components=3, whiten=False)), ('forest', RandomForestClassifier(bootstrap=True, class_weight=None, criterion='gini',\n",
      "            max_depth=None, max_features='auto', max_leaf_nodes=None,\n",
      "            min_samples_leaf=1, min_samples_split=2,\n",
      "            min_weight_fraction_leaf=0.0, n_estimators=35, n_jobs=1,\n",
      "            oob_score=False, random_state=None, verbose=0,\n",
      "            warm_start=False))])\n",
      "{'forest__max_features': 'auto', 'pca__n_components': 3, 'forest__n_estimators': 35, 'forest__criterion': 'gini'}\n",
      "0.927701465502\n"
     ]
    }
   ],
   "source": [
    "# This takes considerable time\n",
    "estimator.fit(X_train, Y_train)\n",
    "print estimator.best_estimator_\n",
    "print estimator.best_params_\n",
    "print estimator.best_score_"
   ]
  },
  {
   "cell_type": "code",
   "execution_count": 64,
   "metadata": {
    "collapsed": false
   },
   "outputs": [
    {
     "data": {
      "image/png": "[encoded data removed]",
      "text/plain": [
       "<matplotlib.figure.Figure at 0x129380050>"
      ]
     },
     "metadata": {},
     "output_type": "display_data"
    }
   ],
   "source": [
    "plt.figure(1, figsize=(6, 6))\n",
    "plt.plot(pca.explained_variance_, linewidth=2, c='salmon', alpha=0.8)\n",
    "plt.axis('tight')\n",
    "plt.xlabel('Number of components');\n",
    "plt.ylabel('Explained Variance');\n",
    "plt.axvline(estimator.best_estimator_.named_steps['pca'].n_components,\n",
    "            linestyle=':', label='Number of components chosen')\n",
    "plt.legend(prop=dict(size=10))\n",
    "plt.xlim(0,5.0)\n",
    "plt.show()"
   ]
  },
  {
   "cell_type": "markdown",
   "metadata": {},
   "source": [
    "***Since the best PCA picks 3 components, we will not perform PCA in the manual approach***"
   ]
  },
  {
   "cell_type": "markdown",
   "metadata": {},
   "source": [
    "##### Manual Random Forest"
   ]
  },
  {
   "cell_type": "code",
   "execution_count": 68,
   "metadata": {
    "collapsed": false
   },
   "outputs": [],
   "source": [
    "def get_results(n_components,max_features,criterion,n_estimators,X,Y):\n",
    "    kf = KFold(n=len(X), n_folds=12, shuffle=True, random_state=21)\n",
    "    d = []\n",
    "    for train_index, test_index in kf:\n",
    "        for rf_features,criter,rf_estimators in itertools.product(max_features,criterion,n_estimators):\n",
    "            X_tr, X_test = X[train_index], X[test_index]\n",
    "            X_train, X_validation = train_test_split(X_tr, test_size=0.2, random_state=21)\n",
    "            Y_tr, Y_test = Y[train_index], Y[test_index]\n",
    "            Y_train, Y_validation = train_test_split(Y_tr, test_size=0.2, random_state=21)\n",
    "            del X_tr\n",
    "            del Y_tr\n",
    "            forest = RandomForestClassifier(bootstrap=True, class_weight=None, criterion=criter,\n",
    "                    max_depth=None, max_features=rf_features, max_leaf_nodes=None,\n",
    "                    min_samples_leaf=1, min_samples_split=2,\n",
    "                    min_weight_fraction_leaf=0.0, n_estimators=rf_estimators, n_jobs=1,\n",
    "                    oob_score=False, random_state=21, verbose=0,\n",
    "                    warm_start=False)\n",
    "            forest.fit(X_train,Y_train)\n",
    "            forest_pred = forest.predict(X_validation)\n",
    "            name = '%s,%s,%s'%(str(rf_features),str(criter),str(rf_estimators))\n",
    "            d.append((name,roc_auc_score(Y_validation,forest_pred),X_train,X_test,Y_train,Y_test))\n",
    "    return sorted(d, key=lambda tup: tup[1])[-1]"
   ]
  },
  {
   "cell_type": "code",
   "execution_count": 70,
   "metadata": {
    "collapsed": false
   },
   "outputs": [
    {
     "name": "stdout",
     "output_type": "stream",
     "text": [
      "0.991286431729\n",
      "0.763164578136\n"
     ]
    },
    {
     "name": "stderr",
     "output_type": "stream",
     "text": [
      "/anaconda/lib/python2.7/site-packages/ipykernel/__main__.py:13: SettingWithCopyWarning: \n",
      "A value is trying to be set on a copy of a slice from a DataFrame.\n",
      "Try using .loc[row_indexer,col_indexer] = value instead\n",
      "\n",
      "See the caveats in the documentation: http://pandas.pydata.org/pandas-docs/stable/indexing.html#indexing-view-versus-copy\n"
     ]
    },
    {
     "ename": "NameError",
     "evalue": "name 'pred_labels' is not defined",
     "output_type": "error",
     "traceback": [
      "\u001b[0;31m---------------------------------------------------------------------------\u001b[0m",
      "\u001b[0;31mNameError\u001b[0m                                 Traceback (most recent call last)",
      "\u001b[0;32m<ipython-input-70-6dc0d5a08ba8>\u001b[0m in \u001b[0;36m<module>\u001b[0;34m()\u001b[0m\n\u001b[1;32m     16\u001b[0m \u001b[0;32mprint\u001b[0m \u001b[0maccuracy_score\u001b[0m\u001b[0;34m(\u001b[0m\u001b[0mY_test_best\u001b[0m\u001b[0;34m,\u001b[0m\u001b[0mforest\u001b[0m\u001b[0;34m.\u001b[0m\u001b[0mpredict\u001b[0m\u001b[0;34m(\u001b[0m\u001b[0mX_test_best\u001b[0m\u001b[0;34m)\u001b[0m\u001b[0;34m)\u001b[0m\u001b[0;34m\u001b[0m\u001b[0m\n\u001b[1;32m     17\u001b[0m \u001b[0;32mprint\u001b[0m \u001b[0mroc_auc_score\u001b[0m\u001b[0;34m(\u001b[0m\u001b[0mY_test_best\u001b[0m\u001b[0;34m,\u001b[0m\u001b[0mforest\u001b[0m\u001b[0;34m.\u001b[0m\u001b[0mpredict\u001b[0m\u001b[0;34m(\u001b[0m\u001b[0mX_test_best\u001b[0m\u001b[0;34m)\u001b[0m\u001b[0;34m)\u001b[0m\u001b[0;34m\u001b[0m\u001b[0m\n\u001b[0;32m---> 18\u001b[0;31m \u001b[0;32mprint\u001b[0m \u001b[0mconfusion_matrix\u001b[0m\u001b[0;34m(\u001b[0m\u001b[0mY\u001b[0m\u001b[0;34m,\u001b[0m \u001b[0mpred_labels\u001b[0m\u001b[0;34m)\u001b[0m\u001b[0;34m\u001b[0m\u001b[0m\n\u001b[0m",
      "\u001b[0;31mNameError\u001b[0m: name 'pred_labels' is not defined"
     ]
    }
   ],
   "source": [
    "# Get the best parameters\n",
    "best = get_results(n_components,max_features,criterion,n_estimators,X.as_matrix(),Y.as_matrix())\n",
    "best_params,X_train_best,X_test_best,Y_train_best,Y_test_best = best[0].split(','),best[2],best[3],best[4],best[5]\n",
    "\n",
    "# Run RF\n",
    "forest = RandomForestClassifier(bootstrap=True, class_weight=None, criterion=best_params[1],\n",
    "                max_depth=None, max_features=best_params[0], max_leaf_nodes=None,\n",
    "                min_samples_leaf=1, min_samples_split=2,\n",
    "                min_weight_fraction_leaf=0.0, n_estimators=int(best_params[2]), n_jobs=1,\n",
    "                oob_score=False, random_state=21, verbose=0,\n",
    "                warm_start=False)\n",
    "forest.fit(X_train_best,Y_train_best)\n",
    "Data_filt['LabelsRF'] = forest.predict(X)\n",
    "\n",
    "# Get results\n",
    "print accuracy_score(Y_test_best,forest.predict(X_test_best))\n",
    "print roc_auc_score(Y_test_best,forest.predict(X_test_best))"
   ]
  },
  {
   "cell_type": "code",
   "execution_count": 71,
   "metadata": {
    "collapsed": false
   },
   "outputs": [
    {
     "name": "stdout",
     "output_type": "stream",
     "text": [
      "[[275439    701]\n",
      " [  1122   2306]]\n"
     ]
    }
   ],
   "source": [
    "print confusion_matrix(Y, Data_filt['LabelsRF'])"
   ]
  },
  {
   "cell_type": "code",
   "execution_count": null,
   "metadata": {
    "collapsed": true
   },
   "outputs": [],
   "source": [
    "# http://blog.datadive.net/selecting-good-features-part-iii-random-forests/"
   ]
  },
  {
   "cell_type": "code",
   "execution_count": 72,
   "metadata": {
    "collapsed": false
   },
   "outputs": [
    {
     "data": {
      "text/html": [
       "<div>\n",
       "<table border=\"1\" class=\"dataframe\">\n",
       "  <thead>\n",
       "    <tr style=\"text-align: right;\">\n",
       "      <th></th>\n",
       "      <th>BusStop</th>\n",
       "      <th>Street</th>\n",
       "      <th>Trash</th>\n",
       "      <th>Mosquito</th>\n",
       "      <th>Case</th>\n",
       "      <th>LabelLogit</th>\n",
       "      <th>PredictionLogit</th>\n",
       "      <th>LabelsRF</th>\n",
       "    </tr>\n",
       "  </thead>\n",
       "  <tbody>\n",
       "    <tr>\n",
       "      <th>147867</th>\n",
       "      <td>0.941176</td>\n",
       "      <td>0.941176</td>\n",
       "      <td>0.941176</td>\n",
       "      <td>0.941176</td>\n",
       "      <td>0</td>\n",
       "      <td>0.235177</td>\n",
       "      <td>0.235177</td>\n",
       "      <td>0</td>\n",
       "    </tr>\n",
       "    <tr>\n",
       "      <th>150112</th>\n",
       "      <td>0.941176</td>\n",
       "      <td>0.941176</td>\n",
       "      <td>0.941176</td>\n",
       "      <td>0.941176</td>\n",
       "      <td>0</td>\n",
       "      <td>0.235177</td>\n",
       "      <td>0.235177</td>\n",
       "      <td>0</td>\n",
       "    </tr>\n",
       "    <tr>\n",
       "      <th>150113</th>\n",
       "      <td>0.941176</td>\n",
       "      <td>0.941176</td>\n",
       "      <td>0.941176</td>\n",
       "      <td>0.941176</td>\n",
       "      <td>0</td>\n",
       "      <td>0.235177</td>\n",
       "      <td>0.235177</td>\n",
       "      <td>0</td>\n",
       "    </tr>\n",
       "    <tr>\n",
       "      <th>150114</th>\n",
       "      <td>0.941176</td>\n",
       "      <td>0.941176</td>\n",
       "      <td>0.941176</td>\n",
       "      <td>0.941176</td>\n",
       "      <td>0</td>\n",
       "      <td>0.235177</td>\n",
       "      <td>0.235177</td>\n",
       "      <td>0</td>\n",
       "    </tr>\n",
       "    <tr>\n",
       "      <th>151167</th>\n",
       "      <td>0.219608</td>\n",
       "      <td>0.121569</td>\n",
       "      <td>0.000000</td>\n",
       "      <td>0.941176</td>\n",
       "      <td>0</td>\n",
       "      <td>0.002505</td>\n",
       "      <td>0.002505</td>\n",
       "      <td>0</td>\n",
       "    </tr>\n",
       "  </tbody>\n",
       "</table>\n",
       "</div>"
      ],
      "text/plain": [
       "         BusStop    Street     Trash  Mosquito  Case  LabelLogit  \\\n",
       "147867  0.941176  0.941176  0.941176  0.941176     0    0.235177   \n",
       "150112  0.941176  0.941176  0.941176  0.941176     0    0.235177   \n",
       "150113  0.941176  0.941176  0.941176  0.941176     0    0.235177   \n",
       "150114  0.941176  0.941176  0.941176  0.941176     0    0.235177   \n",
       "151167  0.219608  0.121569  0.000000  0.941176     0    0.002505   \n",
       "\n",
       "        PredictionLogit  LabelsRF  \n",
       "147867         0.235177         0  \n",
       "150112         0.235177         0  \n",
       "150113         0.235177         0  \n",
       "150114         0.235177         0  \n",
       "151167         0.002505         0  "
      ]
     },
     "execution_count": 72,
     "metadata": {},
     "output_type": "execute_result"
    }
   ],
   "source": [
    "Data_filt.head()"
   ]
  },
  {
   "cell_type": "code",
   "execution_count": 78,
   "metadata": {
    "collapsed": false
   },
   "outputs": [
    {
     "data": {
      "text/plain": [
       "0    276561\n",
       "1      3007\n",
       "Name: LabelsRF, dtype: int64"
      ]
     },
     "execution_count": 78,
     "metadata": {},
     "output_type": "execute_result"
    }
   ],
   "source": [
    "Data_filt.LabelsRF.value_counts()"
   ]
  },
  {
   "cell_type": "code",
   "execution_count": 83,
   "metadata": {
    "collapsed": false
   },
   "outputs": [
    {
     "data": {
      "image/png": "[encoded data removed]",
      "text/plain": [
       "<matplotlib.figure.Figure at 0x128e34790>"
      ]
     },
     "metadata": {},
     "output_type": "display_data"
    }
   ],
   "source": [
    "#0 disease, 1 no disease, 2 outside singapore \n",
    "matrix = np.zeros((m,n))+2\n",
    "for M in Data_filt.index:\n",
    "    i=original_index_dict[M]['i']\n",
    "    j=original_index_dict[M]['j']\n",
    "    matrix[i][j]=Data_filt.LabelsRF[M]\n",
    "m_l=matrix.tolist()\n",
    "fig, ax = subplots(figsize=(12, 12))\n",
    "plt.imshow(m_l, interpolation='nearest', cmap='hot', extent=(0.5,10.5,0.5,10.5))\n",
    "plt.colorbar()\n",
    "plt.show()"
   ]
  }
 ],
 "metadata": {
  "kernelspec": {
   "display_name": "Python 2",
   "language": "python",
   "name": "python2"
  },
  "language_info": {
   "codemirror_mode": {
    "name": "ipython",
    "version": 2
   },
   "file_extension": ".py",
   "mimetype": "text/x-python",
   "name": "python",
   "nbconvert_exporter": "python",
   "pygments_lexer": "ipython2",
   "version": "2.7.11"
  }
 },
 "nbformat": 4,
 "nbformat_minor": 0
}
