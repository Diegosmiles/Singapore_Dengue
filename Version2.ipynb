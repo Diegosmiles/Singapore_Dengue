{
 "cells": [
  {
   "cell_type": "code",
   "execution_count": 1,
   "metadata": {
    "collapsed": false
   },
   "outputs": [
    {
     "name": "stdout",
     "output_type": "stream",
     "text": [
      "Populating the interactive namespace from numpy and matplotlib\n"
     ]
    },
    {
     "name": "stderr",
     "output_type": "stream",
     "text": [
      "WARNING: pylab import has clobbered these variables: ['plt']\n",
      "`%matplotlib` prevents importing * from pylab and numpy\n"
     ]
    }
   ],
   "source": [
    "import geopandas as gpd\n",
    "import pandas as pd\n",
    "import numpy as np\n",
    "import matplotlib.pylab as plt\n",
    "import numpy\n",
    "#from fastkml import kml\n",
    "from bs4 import BeautifulSoup\n",
    "from PIL import Image\n",
    "import matplotlib.image as mpimg\n",
    "%pylab inline"
   ]
  },
  {
   "cell_type": "code",
   "execution_count": 2,
   "metadata": {
    "collapsed": true
   },
   "outputs": [],
   "source": [
    "def rgb2gray(rgb):\n",
    "    return np.dot(rgb[...,:3], [0.299, 0.587, 0.114])"
   ]
  },
  {
   "cell_type": "code",
   "execution_count": 3,
   "metadata": {
    "collapsed": true
   },
   "outputs": [],
   "source": [
    "#Im going to create a function. The input of the function is a raster file with dimentions (n pixels,m pixels), \n",
    "#and the output is going to be an array of dimmensions (m*n,1). That means, that each pixel is going to have a unique identifier \n",
    "#(index in the array). This index follows the formula (i*n)+j where (i,j) is the position of the pixel in the image and n is the \n",
    "#width of the image.\n",
    "\n",
    "def feature_to_array(file_n):\n",
    "    im = mpimg.imread(file_n)  \n",
    "    im_greyscale = rgb2gray(im)   \n",
    "    imarray = numpy.array(im_greyscale)\n",
    "    feature=[i for a in imarray for i in a]\n",
    "    return feature"
   ]
  },
  {
   "cell_type": "code",
   "execution_count": 4,
   "metadata": {
    "collapsed": true
   },
   "outputs": [],
   "source": [
    "file_name='Raster_images/BusStop.png'\n",
    "im = mpimg.imread(file_name)  \n",
    "im_greyscale = rgb2gray(im)  "
   ]
  },
  {
   "cell_type": "code",
   "execution_count": 5,
   "metadata": {
    "collapsed": false
   },
   "outputs": [
    {
     "data": {
      "text/plain": [
       "935000"
      ]
     },
     "execution_count": 5,
     "metadata": {},
     "output_type": "execute_result"
    }
   ],
   "source": [
    "file_name='Raster_images/BusStop.png'\n",
    "array1=feature_to_array(file_name)\n",
    "len(array1)"
   ]
  },
  {
   "cell_type": "code",
   "execution_count": 6,
   "metadata": {
    "collapsed": false
   },
   "outputs": [
    {
     "data": {
      "text/plain": [
       "935000"
      ]
     },
     "execution_count": 6,
     "metadata": {},
     "output_type": "execute_result"
    }
   ],
   "source": [
    "#LABEL\n",
    "file_name='Raster_images/Case.png'\n",
    "array2=feature_to_array(file_name)\n",
    "len(array2)"
   ]
  },
  {
   "cell_type": "code",
   "execution_count": 7,
   "metadata": {
    "collapsed": false
   },
   "outputs": [
    {
     "data": {
      "text/plain": [
       "935000"
      ]
     },
     "execution_count": 7,
     "metadata": {},
     "output_type": "execute_result"
    }
   ],
   "source": [
    "#IN OR OUT SINGAPOURE\n",
    "file_name='Raster_images/Land.png'\n",
    "array3=feature_to_array(file_name)\n",
    "len(array3)"
   ]
  },
  {
   "cell_type": "code",
   "execution_count": 8,
   "metadata": {
    "collapsed": false
   },
   "outputs": [
    {
     "data": {
      "text/plain": [
       "935000"
      ]
     },
     "execution_count": 8,
     "metadata": {},
     "output_type": "execute_result"
    }
   ],
   "source": [
    "file_name='Raster_images/Mosquito.png'\n",
    "array4=feature_to_array(file_name)\n",
    "len(array4)"
   ]
  },
  {
   "cell_type": "code",
   "execution_count": 9,
   "metadata": {
    "collapsed": false
   },
   "outputs": [
    {
     "data": {
      "text/plain": [
       "935000"
      ]
     },
     "execution_count": 9,
     "metadata": {},
     "output_type": "execute_result"
    }
   ],
   "source": [
    "file_name='Raster_images/Str_Density.png'\n",
    "array5=feature_to_array(file_name)\n",
    "len(array5)"
   ]
  },
  {
   "cell_type": "code",
   "execution_count": 10,
   "metadata": {
    "collapsed": false
   },
   "outputs": [
    {
     "data": {
      "text/plain": [
       "935000"
      ]
     },
     "execution_count": 10,
     "metadata": {},
     "output_type": "execute_result"
    }
   ],
   "source": [
    "file_name='Raster_images/Trash.png'\n",
    "array6=feature_to_array(file_name)\n",
    "len(array6)"
   ]
  },
  {
   "cell_type": "code",
   "execution_count": 11,
   "metadata": {
    "collapsed": false
   },
   "outputs": [],
   "source": [
    "array22=list(array2/np.max(array2))\n",
    "inorout33=list(1-(array3/np.max(array3)))"
   ]
  },
  {
   "cell_type": "code",
   "execution_count": 12,
   "metadata": {
    "collapsed": false
   },
   "outputs": [],
   "source": [
    "Data=pd.DataFrame([array1,array22,array4,array5,array6]).T"
   ]
  },
  {
   "cell_type": "code",
   "execution_count": 13,
   "metadata": {
    "collapsed": false
   },
   "outputs": [
    {
     "data": {
      "text/html": [
       "<div>\n",
       "<table border=\"1\" class=\"dataframe\">\n",
       "  <thead>\n",
       "    <tr style=\"text-align: right;\">\n",
       "      <th></th>\n",
       "      <th>0</th>\n",
       "      <th>1</th>\n",
       "      <th>2</th>\n",
       "      <th>3</th>\n",
       "      <th>4</th>\n",
       "    </tr>\n",
       "  </thead>\n",
       "  <tbody>\n",
       "    <tr>\n",
       "      <th>0</th>\n",
       "      <td>0.941176</td>\n",
       "      <td>1</td>\n",
       "      <td>0.941176</td>\n",
       "      <td>0.941176</td>\n",
       "      <td>0.941176</td>\n",
       "    </tr>\n",
       "    <tr>\n",
       "      <th>1</th>\n",
       "      <td>0.941176</td>\n",
       "      <td>1</td>\n",
       "      <td>0.941176</td>\n",
       "      <td>0.941176</td>\n",
       "      <td>0.941176</td>\n",
       "    </tr>\n",
       "    <tr>\n",
       "      <th>2</th>\n",
       "      <td>0.941176</td>\n",
       "      <td>1</td>\n",
       "      <td>0.941176</td>\n",
       "      <td>0.941176</td>\n",
       "      <td>0.941176</td>\n",
       "    </tr>\n",
       "    <tr>\n",
       "      <th>3</th>\n",
       "      <td>0.941176</td>\n",
       "      <td>1</td>\n",
       "      <td>0.941176</td>\n",
       "      <td>0.941176</td>\n",
       "      <td>0.941176</td>\n",
       "    </tr>\n",
       "    <tr>\n",
       "      <th>4</th>\n",
       "      <td>0.941176</td>\n",
       "      <td>1</td>\n",
       "      <td>0.941176</td>\n",
       "      <td>0.941176</td>\n",
       "      <td>0.941176</td>\n",
       "    </tr>\n",
       "  </tbody>\n",
       "</table>\n",
       "</div>"
      ],
      "text/plain": [
       "          0  1         2         3         4\n",
       "0  0.941176  1  0.941176  0.941176  0.941176\n",
       "1  0.941176  1  0.941176  0.941176  0.941176\n",
       "2  0.941176  1  0.941176  0.941176  0.941176\n",
       "3  0.941176  1  0.941176  0.941176  0.941176\n",
       "4  0.941176  1  0.941176  0.941176  0.941176"
      ]
     },
     "execution_count": 13,
     "metadata": {},
     "output_type": "execute_result"
    }
   ],
   "source": [
    "Data.head()"
   ]
  },
  {
   "cell_type": "code",
   "execution_count": 14,
   "metadata": {
    "collapsed": false
   },
   "outputs": [],
   "source": [
    "Data_filt=Data[np.array(inorout33)==1.0]"
   ]
  },
  {
   "cell_type": "code",
   "execution_count": 15,
   "metadata": {
    "collapsed": false
   },
   "outputs": [
    {
     "data": {
      "text/html": [
       "<div>\n",
       "<table border=\"1\" class=\"dataframe\">\n",
       "  <thead>\n",
       "    <tr style=\"text-align: right;\">\n",
       "      <th></th>\n",
       "      <th>0</th>\n",
       "      <th>1</th>\n",
       "      <th>2</th>\n",
       "      <th>3</th>\n",
       "      <th>4</th>\n",
       "    </tr>\n",
       "  </thead>\n",
       "  <tbody>\n",
       "    <tr>\n",
       "      <th>147867</th>\n",
       "      <td>0.941176</td>\n",
       "      <td>1</td>\n",
       "      <td>0.941176</td>\n",
       "      <td>0.941176</td>\n",
       "      <td>0.941176</td>\n",
       "    </tr>\n",
       "    <tr>\n",
       "      <th>150112</th>\n",
       "      <td>0.941176</td>\n",
       "      <td>1</td>\n",
       "      <td>0.941176</td>\n",
       "      <td>0.941176</td>\n",
       "      <td>0.941176</td>\n",
       "    </tr>\n",
       "    <tr>\n",
       "      <th>150113</th>\n",
       "      <td>0.941176</td>\n",
       "      <td>1</td>\n",
       "      <td>0.941176</td>\n",
       "      <td>0.941176</td>\n",
       "      <td>0.941176</td>\n",
       "    </tr>\n",
       "    <tr>\n",
       "      <th>150114</th>\n",
       "      <td>0.941176</td>\n",
       "      <td>1</td>\n",
       "      <td>0.941176</td>\n",
       "      <td>0.941176</td>\n",
       "      <td>0.941176</td>\n",
       "    </tr>\n",
       "    <tr>\n",
       "      <th>151167</th>\n",
       "      <td>0.219608</td>\n",
       "      <td>1</td>\n",
       "      <td>0.941176</td>\n",
       "      <td>0.121569</td>\n",
       "      <td>0.000000</td>\n",
       "    </tr>\n",
       "  </tbody>\n",
       "</table>\n",
       "</div>"
      ],
      "text/plain": [
       "               0  1         2         3         4\n",
       "147867  0.941176  1  0.941176  0.941176  0.941176\n",
       "150112  0.941176  1  0.941176  0.941176  0.941176\n",
       "150113  0.941176  1  0.941176  0.941176  0.941176\n",
       "150114  0.941176  1  0.941176  0.941176  0.941176\n",
       "151167  0.219608  1  0.941176  0.121569  0.000000"
      ]
     },
     "execution_count": 15,
     "metadata": {},
     "output_type": "execute_result"
    }
   ],
   "source": [
    "Data_filt.head()"
   ]
  },
  {
   "cell_type": "code",
   "execution_count": 16,
   "metadata": {
    "collapsed": true
   },
   "outputs": [],
   "source": [
    "#Outuput: dictionary linking index of one dimmensional array and original i,j position of pixel:\n",
    "m=numpy.array(Image.open(file_name)).shape[0]\n",
    "n=numpy.array(Image.open(file_name)).shape[1]\n",
    "def indexes(m,n):    \n",
    "    index_2dim={}\n",
    "    for M in range(0,m*n):\n",
    "        index_2dim[M]={'i':int(M)/int(n), 'j':M-((int(M)/int(n))*n)}\n",
    "    return index_2dim"
   ]
  },
  {
   "cell_type": "code",
   "execution_count": 17,
   "metadata": {
    "collapsed": false
   },
   "outputs": [],
   "source": [
    "original_index_dict=indexes(m,n)"
   ]
  },
  {
   "cell_type": "code",
   "execution_count": 18,
   "metadata": {
    "collapsed": false
   },
   "outputs": [
    {
     "data": {
      "text/plain": [
       "{'i': 0, 'j': 386L}"
      ]
     },
     "execution_count": 18,
     "metadata": {},
     "output_type": "execute_result"
    }
   ],
   "source": [
    "original_index_dict[386]"
   ]
  },
  {
   "cell_type": "markdown",
   "metadata": {},
   "source": [
    "###MACHINE LEARNING PART"
   ]
  },
  {
   "cell_type": "code",
   "execution_count": 19,
   "metadata": {
    "collapsed": true
   },
   "outputs": [],
   "source": [
    "from sklearn.pipeline import Pipeline\n",
    "from sklearn.decomposition import PCA\n",
    "from sklearn.ensemble import RandomForestClassifier\n",
    "from sklearn.grid_search import GridSearchCV\n",
    "from sklearn.cross_validation import train_test_split\n",
    "from sklearn.metrics import accuracy_score\n",
    "from sklearn.cross_validation import KFold\n",
    "import itertools"
   ]
  },
  {
   "cell_type": "code",
   "execution_count": 20,
   "metadata": {
    "collapsed": true
   },
   "outputs": [],
   "source": [
    "pca = PCA()\n",
    "forest = RandomForestClassifier()\n",
    "pipe = Pipeline(steps=[('pca', pca), ('forest', forest)])"
   ]
  },
  {
   "cell_type": "code",
   "execution_count": 21,
   "metadata": {
    "collapsed": false
   },
   "outputs": [],
   "source": [
    "X = Data_filt[[0,2,3,4]]\n",
    "Y = Data_filt[1]"
   ]
  },
  {
   "cell_type": "code",
   "execution_count": 22,
   "metadata": {
    "collapsed": true
   },
   "outputs": [],
   "source": [
    "X_train, X_test = train_test_split(X, test_size=0.2, random_state=21)\n",
    "Y_train, Y_test = train_test_split(Y, test_size=0.2, random_state=21)"
   ]
  },
  {
   "cell_type": "code",
   "execution_count": 23,
   "metadata": {
    "collapsed": false
   },
   "outputs": [
    {
     "data": {
      "text/plain": [
       "PCA(copy=True, n_components=None, whiten=False)"
      ]
     },
     "execution_count": 23,
     "metadata": {},
     "output_type": "execute_result"
    }
   ],
   "source": [
    "pca.fit(X_train.as_matrix())"
   ]
  },
  {
   "cell_type": "code",
   "execution_count": 24,
   "metadata": {
    "collapsed": false
   },
   "outputs": [
    {
     "data": {
      "image/png": "[encoded data removed]",
      "text/plain": [
       "<matplotlib.figure.Figure at 0x56a261d0>"
      ]
     },
     "metadata": {},
     "output_type": "display_data"
    }
   ],
   "source": [
    "plt.figure(1, figsize=(6, 6))\n",
    "plt.plot(pca.explained_variance_, linewidth=2, c='salmon', alpha=0.8)\n",
    "plt.axis('tight')\n",
    "plt.xlabel('Number of components');\n",
    "plt.ylabel('Explained Variance');"
   ]
  },
  {
   "cell_type": "code",
   "execution_count": 25,
   "metadata": {
    "collapsed": false
   },
   "outputs": [],
   "source": [
    "def get_results(n_components,max_features,criterion,n_estimators,X,Y):\n",
    "    from sklearn.metrics import accuracy_score\n",
    "    from sklearn.cross_validation import KFold\n",
    "    from sklearn.ensemble import RandomForestClassifier\n",
    "    kf = KFold(n=len(X), n_folds=12, shuffle=True, random_state=21)\n",
    "    d = []\n",
    "    for train_index, test_index in kf:\n",
    "        for rf_features,criter,rf_estimators in itertools.product(max_features,criterion,n_estimators):\n",
    "            X_tr, X_test = X[train_index], X[test_index]\n",
    "            X_train, X_validation = train_test_split(X_tr, test_size=0.2, random_state=21)\n",
    "            Y_tr, Y_test = Y[train_index], Y[test_index]\n",
    "            Y_train, Y_validation = train_test_split(Y_tr, test_size=0.2, random_state=21)\n",
    "            del X_tr\n",
    "            del Y_tr\n",
    "            forest = RandomForestClassifier(bootstrap=True, class_weight=None, criterion=criter,\n",
    "                    max_depth=None, max_features=rf_features, max_leaf_nodes=None,\n",
    "                    min_samples_leaf=1, min_samples_split=2,\n",
    "                    min_weight_fraction_leaf=0.0, n_estimators=rf_estimators, n_jobs=1,\n",
    "                    oob_score=False, random_state=21, verbose=0,\n",
    "                    warm_start=False)\n",
    "            forest.fit(X_train,Y_train)\n",
    "            forest_pred = forest.predict(X_validation)\n",
    "            name = '%s,%s,%s'%(str(rf_features),str(criter),str(rf_estimators))\n",
    "            d.append((name,accuracy_score(Y_validation,forest_pred),X_train,X_test,Y_train,Y_test))\n",
    "            #forest_probs = forest.predict_proba(X_test)\n",
    "            #sig_clf = CalibratedClassifierCV(forest, method=\"sigmoid\", cv=\"prefit\")\n",
    "            #sig_clf.fit(X_validation, Y_validation)\n",
    "            #sig_clf_probs = sig_clf.predict_proba(X_test)\n",
    "            #sig_score = log_loss(Y_test, sig_clf_probs)\n",
    "    return sorted(d, key=lambda tup: tup[1])[-1]"
   ]
  },
  {
   "cell_type": "code",
   "execution_count": 26,
   "metadata": {
    "collapsed": true
   },
   "outputs": [],
   "source": [
    "n_components = [1,2,3,4]#,5,6,7]\n",
    "max_features = ['auto','sqrt','log2']\n",
    "criterion = ['gini','entropy']\n",
    "n_estimators = [3,6,9]"
   ]
  },
  {
   "cell_type": "code",
   "execution_count": 27,
   "metadata": {
    "collapsed": false
   },
   "outputs": [
    {
     "name": "stdout",
     "output_type": "stream",
     "text": [
      "(205016L, 4L)\n",
      "(205016L,)\n",
      "0.990642572005\n"
     ]
    }
   ],
   "source": [
    "best = get_results(n_components,max_features,criterion,n_estimators,X.as_matrix(),Y.as_matrix())\n",
    "best_params,X_train_best,X_test_best,Y_train_best,Y_test_best = best[0].split(','),best[2],best[3],best[4],best[5]\n",
    "print X_train_best.shape\n",
    "print Y_train_best.shape\n",
    "forest = RandomForestClassifier(bootstrap=True, class_weight=None, criterion=best_params[1],\n",
    "                max_depth=None, max_features=best_params[0], max_leaf_nodes=None,\n",
    "                min_samples_leaf=1, min_samples_split=2,\n",
    "                min_weight_fraction_leaf=0.0, n_estimators=int(best_params[2]), n_jobs=1,\n",
    "                oob_score=False, random_state=21, verbose=0,\n",
    "                warm_start=False)\n",
    "forest.fit(X_train_best,Y_train_best)\n",
    "print accuracy_score(Y_test_best,forest.predict(X_test_best))"
   ]
  },
  {
   "cell_type": "code",
   "execution_count": 28,
   "metadata": {
    "collapsed": false
   },
   "outputs": [],
   "source": [
    "pred_labels=forest.predict(X)"
   ]
  },
  {
   "cell_type": "code",
   "execution_count": 29,
   "metadata": {
    "collapsed": false
   },
   "outputs": [
    {
     "data": {
      "text/plain": [
       "2951"
      ]
     },
     "execution_count": 29,
     "metadata": {},
     "output_type": "execute_result"
    }
   ],
   "source": [
    "sum([pred_labels==0])"
   ]
  },
  {
   "cell_type": "code",
   "execution_count": 30,
   "metadata": {
    "collapsed": false
   },
   "outputs": [
    {
     "name": "stderr",
     "output_type": "stream",
     "text": [
      "C:\\Users\\Marco\\Anaconda\\lib\\site-packages\\IPython\\kernel\\__main__.py:1: SettingWithCopyWarning: \n",
      "A value is trying to be set on a copy of a slice from a DataFrame.\n",
      "Try using .loc[row_indexer,col_indexer] = value instead\n",
      "\n",
      "See the the caveats in the documentation: http://pandas.pydata.org/pandas-docs/stable/indexing.html#indexing-view-versus-copy\n",
      "  if __name__ == '__main__':\n"
     ]
    }
   ],
   "source": [
    "Data_filt['pred_labels']=pred_labels"
   ]
  },
  {
   "cell_type": "code",
   "execution_count": 31,
   "metadata": {
    "collapsed": false
   },
   "outputs": [
    {
     "data": {
      "text/html": [
       "<div>\n",
       "<table border=\"1\" class=\"dataframe\">\n",
       "  <thead>\n",
       "    <tr style=\"text-align: right;\">\n",
       "      <th></th>\n",
       "      <th>0</th>\n",
       "      <th>1</th>\n",
       "      <th>2</th>\n",
       "      <th>3</th>\n",
       "      <th>4</th>\n",
       "      <th>pred_labels</th>\n",
       "    </tr>\n",
       "  </thead>\n",
       "  <tbody>\n",
       "    <tr>\n",
       "      <th>147867</th>\n",
       "      <td>0.941176</td>\n",
       "      <td>1</td>\n",
       "      <td>0.941176</td>\n",
       "      <td>0.941176</td>\n",
       "      <td>0.941176</td>\n",
       "      <td>1</td>\n",
       "    </tr>\n",
       "    <tr>\n",
       "      <th>150112</th>\n",
       "      <td>0.941176</td>\n",
       "      <td>1</td>\n",
       "      <td>0.941176</td>\n",
       "      <td>0.941176</td>\n",
       "      <td>0.941176</td>\n",
       "      <td>1</td>\n",
       "    </tr>\n",
       "    <tr>\n",
       "      <th>150113</th>\n",
       "      <td>0.941176</td>\n",
       "      <td>1</td>\n",
       "      <td>0.941176</td>\n",
       "      <td>0.941176</td>\n",
       "      <td>0.941176</td>\n",
       "      <td>1</td>\n",
       "    </tr>\n",
       "    <tr>\n",
       "      <th>150114</th>\n",
       "      <td>0.941176</td>\n",
       "      <td>1</td>\n",
       "      <td>0.941176</td>\n",
       "      <td>0.941176</td>\n",
       "      <td>0.941176</td>\n",
       "      <td>1</td>\n",
       "    </tr>\n",
       "    <tr>\n",
       "      <th>151167</th>\n",
       "      <td>0.219608</td>\n",
       "      <td>1</td>\n",
       "      <td>0.941176</td>\n",
       "      <td>0.121569</td>\n",
       "      <td>0.000000</td>\n",
       "      <td>1</td>\n",
       "    </tr>\n",
       "  </tbody>\n",
       "</table>\n",
       "</div>"
      ],
      "text/plain": [
       "               0  1         2         3         4  pred_labels\n",
       "147867  0.941176  1  0.941176  0.941176  0.941176            1\n",
       "150112  0.941176  1  0.941176  0.941176  0.941176            1\n",
       "150113  0.941176  1  0.941176  0.941176  0.941176            1\n",
       "150114  0.941176  1  0.941176  0.941176  0.941176            1\n",
       "151167  0.219608  1  0.941176  0.121569  0.000000            1"
      ]
     },
     "execution_count": 31,
     "metadata": {},
     "output_type": "execute_result"
    }
   ],
   "source": [
    "Data_filt.head()"
   ]
  },
  {
   "cell_type": "code",
   "execution_count": 32,
   "metadata": {
    "collapsed": true
   },
   "outputs": [],
   "source": [
    "#0 disease, 1 no disease, 2 outside singapore \n"
   ]
  },
  {
   "cell_type": "code",
   "execution_count": 33,
   "metadata": {
    "collapsed": false
   },
   "outputs": [
    {
     "name": "stderr",
     "output_type": "stream",
     "text": [
      "C:\\Users\\Marco\\Anaconda\\lib\\site-packages\\matplotlib\\collections.py:590: FutureWarning: elementwise comparison failed; returning scalar instead, but in the future will perform elementwise comparison\n",
      "  if self._edgecolors == str('face'):\n"
     ]
    },
    {
     "data": {
      "image/png": "[encoded data removed]",
      "text/plain": [
       "<matplotlib.figure.Figure at 0x569dd7b8>"
      ]
     },
     "metadata": {},
     "output_type": "display_data"
    }
   ],
   "source": [
    "matrix = np.zeros((m,n))+2\n",
    "for M in Data_filt.index:\n",
    "    i=original_index_dict[M]['i']\n",
    "    j=original_index_dict[M]['j']\n",
    "    matrix[i][j]=Data_filt.pred_labels[M]\n",
    "m_l=matrix.tolist()\n",
    "fig, ax = subplots(figsize=(12, 12))\n",
    "plt.imshow(m_l, interpolation='nearest', cmap='gist_rainbow', extent=(0.5,10.5,0.5,10.5))\n",
    "plt.colorbar()\n",
    "plt.show()"
   ]
  },
  {
   "cell_type": "code",
   "execution_count": null,
   "metadata": {
    "collapsed": true
   },
   "outputs": [],
   "source": []
  },
  {
   "cell_type": "code",
   "execution_count": 34,
   "metadata": {
    "collapsed": false
   },
   "outputs": [
    {
     "data": {
      "image/png": "[encoded data removed]",
      "text/plain": [
       "<matplotlib.figure.Figure at 0x56fa0978>"
      ]
     },
     "metadata": {},
     "output_type": "display_data"
    }
   ],
   "source": [
    "m=numpy.array(Image.open(file_name)).shape[0]\n",
    "n=numpy.array(Image.open(file_name)).shape[1]\n",
    "matrix_real=np.zeros((m,n))+2\n",
    "for M in Data_filt.index:\n",
    "    i=original_index_dict[M]['i']\n",
    "    j=original_index_dict[M]['j']\n",
    "    matrix_real[i][j]=Data_filt[1][M]\n",
    "m_real=matrix_real.tolist()\n",
    "fig, ax = subplots(figsize=(12, 12))\n",
    "plt.imshow(m_real, interpolation='nearest', cmap='gist_rainbow', extent=(0.5,10.5,0.5,10.5))\n",
    "plt.colorbar()\n",
    "plt.show()"
   ]
  },
  {
   "cell_type": "markdown",
   "metadata": {},
   "source": [
    "###AUC Score"
   ]
  },
  {
   "cell_type": "markdown",
   "metadata": {},
   "source": [
    "The AUC, which is part of performance metric of a logistic regression, is a commonly used evaluation metric for binary classification problems like predicting a Buy or Sell decision (binary decision). The interpretation is that given a random positive observation and negative observation, the AUC gives the proportion of the time you guess which is correct. It is less affected by sample balance than accuracy. A perfect model will score an AUC of 1, while random guessing will score an AUC of around 0.5, a meager 50% chance on each other. ( https://www.kaggle.com/wiki/AreaUnderCurve )"
   ]
  },
  {
   "cell_type": "code",
   "execution_count": 35,
   "metadata": {
    "collapsed": false
   },
   "outputs": [],
   "source": [
    "from sklearn.metrics import roc_auc_score\n",
    "from sklearn.metrics import confusion_matrix"
   ]
  },
  {
   "cell_type": "code",
   "execution_count": 36,
   "metadata": {
    "collapsed": false
   },
   "outputs": [
    {
     "name": "stdout",
     "output_type": "stream",
     "text": [
      "0.941284649039\n"
     ]
    }
   ],
   "source": [
    "rf_predictions=forest.predict_proba(X_test_best)[:, 1]\n",
    "print roc_auc_score(Y_test_best, rf_predictions)"
   ]
  },
  {
   "cell_type": "markdown",
   "metadata": {},
   "source": [
    "Confussion Matrix http://i.stack.imgur.com/lQ12T.png"
   ]
  },
  {
   "cell_type": "code",
   "execution_count": 37,
   "metadata": {
    "collapsed": false
   },
   "outputs": [
    {
     "data": {
      "text/plain": [
       "array([[  2274,   1154],\n",
       "       [   677, 275463]])"
      ]
     },
     "execution_count": 37,
     "metadata": {},
     "output_type": "execute_result"
    }
   ],
   "source": [
    "confusion_matrix(Y, pred_labels)"
   ]
  },
  {
   "cell_type": "markdown",
   "metadata": {},
   "source": [
    "THE CONFUSSION MATRIX doesn't look that bad"
   ]
  },
  {
   "cell_type": "markdown",
   "metadata": {},
   "source": [
    "###LOGISTIC REGRESSION"
   ]
  },
  {
   "cell_type": "code",
   "execution_count": null,
   "metadata": {
    "collapsed": true
   },
   "outputs": [],
   "source": []
  },
  {
   "cell_type": "code",
   "execution_count": null,
   "metadata": {
    "collapsed": true
   },
   "outputs": [],
   "source": []
  },
  {
   "cell_type": "code",
   "execution_count": null,
   "metadata": {
    "collapsed": true
   },
   "outputs": [],
   "source": []
  },
  {
   "cell_type": "code",
   "execution_count": null,
   "metadata": {
    "collapsed": true
   },
   "outputs": [],
   "source": []
  },
  {
   "cell_type": "code",
   "execution_count": null,
   "metadata": {
    "collapsed": true
   },
   "outputs": [],
   "source": []
  },
  {
   "cell_type": "code",
   "execution_count": null,
   "metadata": {
    "collapsed": true
   },
   "outputs": [],
   "source": []
  },
  {
   "cell_type": "code",
   "execution_count": null,
   "metadata": {
    "collapsed": true
   },
   "outputs": [],
   "source": []
  },
  {
   "cell_type": "code",
   "execution_count": null,
   "metadata": {
    "collapsed": true
   },
   "outputs": [],
   "source": []
  },
  {
   "cell_type": "code",
   "execution_count": null,
   "metadata": {
    "collapsed": true
   },
   "outputs": [],
   "source": []
  },
  {
   "cell_type": "code",
   "execution_count": null,
   "metadata": {
    "collapsed": true
   },
   "outputs": [],
   "source": []
  }
 ],
 "metadata": {
  "kernelspec": {
   "display_name": "Python 2",
   "language": "python",
   "name": "python2"
  },
  "language_info": {
   "codemirror_mode": {
    "name": "ipython",
    "version": 2
   },
   "file_extension": ".py",
   "mimetype": "text/x-python",
   "name": "python",
   "nbconvert_exporter": "python",
   "pygments_lexer": "ipython2",
   "version": "2.7.11"
  }
 },
 "nbformat": 4,
 "nbformat_minor": 0
}
